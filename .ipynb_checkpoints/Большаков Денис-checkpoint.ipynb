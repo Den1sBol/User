{
 "cells": [
  {
   "cell_type": "markdown",
   "metadata": {},
   "source": [
    "# Математика"
   ]
  },
  {
   "cell_type": "markdown",
   "metadata": {},
   "source": [
    "## Большаков Денис"
   ]
  },
  {
   "cell_type": "markdown",
   "metadata": {},
   "source": [
    "### Variant №2"
   ]
  },
  {
   "cell_type": "code",
   "execution_count": 125,
   "metadata": {},
   "outputs": [],
   "source": [
    "import scipy as sp\n",
    "import numpy as np"
   ]
  },
  {
   "cell_type": "code",
   "execution_count": 79,
   "metadata": {},
   "outputs": [],
   "source": [
    "import sympy\n",
    "from sympy import *\n",
    "x=symbols(\"x\")"
   ]
  },
  {
   "cell_type": "code",
   "execution_count": 80,
   "metadata": {},
   "outputs": [
    {
     "data": {
      "text/latex": [
       "$\\displaystyle -\\infty$"
      ],
      "text/plain": [
       "-oo"
      ]
     },
     "execution_count": 80,
     "metadata": {},
     "output_type": "execute_result"
    }
   ],
   "source": [
    "from sympy import *\n",
    "limit((7-3*pow(x,4))/(2*pow(x,3)+3*pow(x,2)-5),x ,oo)"
   ]
  },
  {
   "cell_type": "code",
   "execution_count": 82,
   "metadata": {},
   "outputs": [
    {
     "data": {
      "text/latex": [
       "$\\displaystyle - \\frac{5}{12}$"
      ],
      "text/plain": [
       "-5/12"
      ]
     },
     "execution_count": 82,
     "metadata": {},
     "output_type": "execute_result"
    }
   ],
   "source": [
    "from sympy import *\n",
    "limit((2-sqrt(x))/(sqrt(6*x+1)-5),x,4)"
   ]
  },
  {
   "cell_type": "code",
   "execution_count": 84,
   "metadata": {},
   "outputs": [
    {
     "data": {
      "text/latex": [
       "$\\displaystyle e^{\\frac{16}{3}}$"
      ],
      "text/plain": [
       "exp(16/3)"
      ]
     },
     "execution_count": 84,
     "metadata": {},
     "output_type": "execute_result"
    }
   ],
   "source": [
    "from sympy import *\n",
    "limit(pow(((3*x)+4)/(3*x),4*x),x,oo)"
   ]
  },
  {
   "cell_type": "code",
   "execution_count": 86,
   "metadata": {},
   "outputs": [
    {
     "data": {
      "text/latex": [
       "$\\displaystyle \\frac{x \\left(\\frac{\\sqrt{x} - 4}{x}\\right)^{0.333333333333333} \\left(- \\frac{0.333333333333333 \\left(\\sqrt{x} - 4\\right)}{x^{2}} + \\frac{0.166666666666667}{x^{\\frac{3}{2}}}\\right)}{\\sqrt{x} - 4}$"
      ],
      "text/plain": [
       "x*((sqrt(x) - 4)/x)**0.333333333333333*(-0.333333333333333*(sqrt(x) - 4)/x**2 + 0.166666666666667/x**(3/2))/(sqrt(x) - 4)"
      ]
     },
     "execution_count": 86,
     "metadata": {},
     "output_type": "execute_result"
    }
   ],
   "source": [
    "diff(pow((sqrt(x)-4)/(x),1/3))"
   ]
  },
  {
   "cell_type": "code",
   "execution_count": 88,
   "metadata": {},
   "outputs": [
    {
     "data": {
      "text/latex": [
       "$\\displaystyle \\left(\\tan{\\left(3 x \\right)} + \\frac{2}{\\sqrt{x}}\\right)^{2} \\left(9 \\tan^{2}{\\left(3 x \\right)} + 9 - \\frac{3}{x^{\\frac{3}{2}}}\\right)$"
      ],
      "text/plain": [
       "(tan(3*x) + 2/sqrt(x))**2*(9*tan(3*x)**2 + 9 - 3/x**(3/2))"
      ]
     },
     "execution_count": 88,
     "metadata": {},
     "output_type": "execute_result"
    }
   ],
   "source": [
    "diff(pow(tan(3*x)+(2/sqrt(x)),3))"
   ]
  },
  {
   "cell_type": "code",
   "execution_count": 90,
   "metadata": {},
   "outputs": [
    {
     "data": {
      "text/latex": [
       "$\\displaystyle - \\frac{\\operatorname{acos}{\\left(\\sqrt{x} + 4 x + 2 \\right)}}{\\left(x + 4\\right)^{2}} - \\frac{4 + \\frac{1}{2 \\sqrt{x}}}{\\sqrt{1 - \\left(\\sqrt{x} + 4 x + 2\\right)^{2}} \\left(x + 4\\right)}$"
      ],
      "text/plain": [
       "-acos(sqrt(x) + 4*x + 2)/(x + 4)**2 - (4 + 1/(2*sqrt(x)))/(sqrt(1 - (sqrt(x) + 4*x + 2)**2)*(x + 4))"
      ]
     },
     "execution_count": 90,
     "metadata": {},
     "output_type": "execute_result"
    }
   ],
   "source": [
    "diff(acos((4*x)+sqrt(x)+2)/(x+4))"
   ]
  },
  {
   "cell_type": "code",
   "execution_count": 92,
   "metadata": {},
   "outputs": [
    {
     "data": {
      "text/latex": [
       "$\\displaystyle - \\frac{1}{2 x^{2}}$"
      ],
      "text/plain": [
       "-1/(2*x**2)"
      ]
     },
     "execution_count": 92,
     "metadata": {},
     "output_type": "execute_result"
    }
   ],
   "source": [
    "integrate(1/pow(x,3))"
   ]
  },
  {
   "cell_type": "code",
   "execution_count": 94,
   "metadata": {},
   "outputs": [
    {
     "data": {
      "text/latex": [
       "$\\displaystyle - \\frac{\\log{\\left(4 x - 3 \\right)}}{4}$"
      ],
      "text/plain": [
       "-log(4*x - 3)/4"
      ]
     },
     "execution_count": 94,
     "metadata": {},
     "output_type": "execute_result"
    }
   ],
   "source": [
    "integrate(1/(3-4*x))"
   ]
  },
  {
   "cell_type": "code",
   "execution_count": 98,
   "metadata": {},
   "outputs": [
    {
     "data": {
      "text/latex": [
       "$\\displaystyle - \\frac{4 \\cos^{6}{\\left(x \\right)} - 6 \\cos^{4}{\\left(x \\right)} + 4 \\cos^{2}{\\left(x \\right)} - 1}{8 \\cos^{8}{\\left(x \\right)}}$"
      ],
      "text/plain": [
       "-(4*cos(x)**6 - 6*cos(x)**4 + 4*cos(x)**2 - 1)/(8*cos(x)**8)"
      ]
     },
     "execution_count": 98,
     "metadata": {},
     "output_type": "execute_result"
    }
   ],
   "source": [
    "integrate(pow(tan(x),7)/pow(cos(x),2))"
   ]
  },
  {
   "cell_type": "code",
   "execution_count": 100,
   "metadata": {},
   "outputs": [
    {
     "data": {
      "text/latex": [
       "$\\displaystyle 3 \\sin{\\left(\\frac{x}{3} \\right)}$"
      ],
      "text/plain": [
       "3*sin(x/3)"
      ]
     },
     "execution_count": 100,
     "metadata": {},
     "output_type": "execute_result"
    }
   ],
   "source": [
    "integrate(cos(x/3))"
   ]
  },
  {
   "cell_type": "code",
   "execution_count": 105,
   "metadata": {},
   "outputs": [
    {
     "data": {
      "text/latex": [
       "$\\displaystyle \\operatorname{asin}{\\left(e^{x} \\right)}$"
      ],
      "text/plain": [
       "asin(exp(x))"
      ]
     },
     "execution_count": 105,
     "metadata": {},
     "output_type": "execute_result"
    }
   ],
   "source": [
    "integrate((exp(x)/sqrt(1-exp(2*x))))"
   ]
  },
  {
   "cell_type": "code",
   "execution_count": 107,
   "metadata": {},
   "outputs": [
    {
     "data": {
      "text/latex": [
       "$\\displaystyle - \\frac{e^{5 - 9 x^{3}}}{27}$"
      ],
      "text/plain": [
       "-exp(5 - 9*x**3)/27"
      ]
     },
     "execution_count": 107,
     "metadata": {},
     "output_type": "execute_result"
    }
   ],
   "source": [
    "integrate(pow(x,2)*exp(5-9*pow(x,3)))"
   ]
  },
  {
   "cell_type": "code",
   "execution_count": 153,
   "metadata": {},
   "outputs": [],
   "source": [
    "import matplotlib.pyplot as plt"
   ]
  },
  {
   "cell_type": "code",
   "execution_count": 154,
   "metadata": {},
   "outputs": [],
   "source": [
    "def f(x):\n",
    "    return (2*x+3)*exp(-2)"
   ]
  },
  {
   "cell_type": "code",
   "execution_count": 155,
   "metadata": {},
   "outputs": [
    {
     "data": {
      "image/png": "[encoded data removed]",
      "text/plain": [
       "<Figure size 432x288 with 1 Axes>"
      ]
     },
     "metadata": {
      "needs_background": "light"
     },
     "output_type": "display_data"
    }
   ],
   "source": [
    "y = lambda x: f(x)\n",
    "x = np.linspace(-3,3,100)\n",
    "\n",
    "plt.plot(x,y(x))\n",
    "\n",
    "grid1 = plt.grid(True)"
   ]
  }
 ],
 "metadata": {
  "kernelspec": {
   "display_name": "Python 3",
   "language": "python",
   "name": "python3"
  },
  "language_info": {
   "codemirror_mode": {
    "name": "ipython",
    "version": 3
   },
   "file_extension": ".py",
   "mimetype": "text/x-python",
   "name": "python",
   "nbconvert_exporter": "python",
   "pygments_lexer": "ipython3",
   "version": "3.8.5"
  }
 },
 "nbformat": 4,
 "nbformat_minor": 4
}
